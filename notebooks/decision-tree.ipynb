{
 "cells": [
  {
   "cell_type": "code",
   "execution_count": 2,
   "id": "departmental-consciousness",
   "metadata": {},
   "outputs": [],
   "source": [
    "import pandas as pd"
   ]
  },
  {
   "cell_type": "code",
   "execution_count": 3,
   "id": "coordinate-wesley",
   "metadata": {},
   "outputs": [],
   "source": [
    "train = pd.read_csv('data/diamonds_train.csv')\n",
    "predict = pd.read_csv('data/diamonds_test.csv')\n",
    "sample_submission = pd.read_csv('data/sample_submission.csv')"
   ]
  },
  {
   "cell_type": "code",
   "execution_count": 4,
   "id": "medieval-cuisine",
   "metadata": {},
   "outputs": [],
   "source": [
    "TARGET = 'price'\n",
    "\n",
    "CAT_FEATURES = ['cut', 'color', 'clarity']\n",
    "NUM_FEATURES = ['carat', 'depth', 'table', 'x', 'y', 'z']"
   ]
  },
  {
   "cell_type": "code",
   "execution_count": 5,
   "id": "informative-money",
   "metadata": {},
   "outputs": [],
   "source": [
    "for categorical_feature in CAT_FEATURES:\n",
    "    train[categorical_feature] = train[categorical_feature].astype('category')\n",
    "    predict[categorical_feature] = predict[categorical_feature].astype('category')"
   ]
  },
  {
   "cell_type": "code",
   "execution_count": 6,
   "id": "discrete-brown",
   "metadata": {},
   "outputs": [],
   "source": [
    "categorical_train_df = pd.get_dummies(train[CAT_FEATURES])\n",
    "numerical_train_df = train[NUM_FEATURES]\n",
    "train_df = pd.concat([categorical_train_df, numerical_train_df], axis=1)"
   ]
  },
  {
   "cell_type": "code",
   "execution_count": 7,
   "id": "sweet-bristol",
   "metadata": {},
   "outputs": [],
   "source": [
    "categorical_predict_df = pd.get_dummies(predict[CAT_FEATURES])\n",
    "numerical_predict_df = predict[NUM_FEATURES]\n",
    "predict_df = pd.concat([categorical_predict_df, numerical_predict_df], axis=1)"
   ]
  },
  {
   "cell_type": "code",
   "execution_count": 8,
   "id": "accurate-neighbor",
   "metadata": {},
   "outputs": [],
   "source": [
    "FEATURES = categorical_train_df.columns.tolist() + numerical_train_df.columns.tolist()"
   ]
  },
  {
   "cell_type": "code",
   "execution_count": 9,
   "id": "vertical-statistics",
   "metadata": {},
   "outputs": [],
   "source": [
    "from sklearn.preprocessing import StandardScaler"
   ]
  },
  {
   "cell_type": "code",
   "execution_count": 10,
   "id": "recent-stress",
   "metadata": {},
   "outputs": [],
   "source": [
    "scaler = StandardScaler()"
   ]
  },
  {
   "cell_type": "code",
   "execution_count": 11,
   "id": "bibliographic-insured",
   "metadata": {},
   "outputs": [],
   "source": [
    "X = scaler.fit_transform(train_df[FEATURES])"
   ]
  },
  {
   "cell_type": "code",
   "execution_count": 12,
   "id": "advisory-delivery",
   "metadata": {},
   "outputs": [],
   "source": [
    "y = train[TARGET]"
   ]
  },
  {
   "cell_type": "code",
   "execution_count": 13,
   "id": "fitting-shanghai",
   "metadata": {},
   "outputs": [],
   "source": [
    "from sklearn.tree import DecisionTreeRegressor"
   ]
  },
  {
   "cell_type": "code",
   "execution_count": 14,
   "id": "specified-soldier",
   "metadata": {},
   "outputs": [],
   "source": [
    "model = DecisionTreeRegressor(max_depth=4)"
   ]
  },
  {
   "cell_type": "code",
   "execution_count": 15,
   "id": "minus-cradle",
   "metadata": {},
   "outputs": [
    {
     "data": {
      "text/plain": [
       "DecisionTreeRegressor(max_depth=4)"
      ]
     },
     "execution_count": 15,
     "metadata": {},
     "output_type": "execute_result"
    }
   ],
   "source": [
    "model.fit(X,y)"
   ]
  },
  {
   "cell_type": "code",
   "execution_count": 16,
   "id": "regional-parallel",
   "metadata": {},
   "outputs": [],
   "source": [
    "X_predict = scaler.transform(predict_df[FEATURES])"
   ]
  },
  {
   "cell_type": "code",
   "execution_count": 17,
   "id": "critical-harvest",
   "metadata": {},
   "outputs": [],
   "source": [
    "predictions = model.predict(X_predict)"
   ]
  },
  {
   "cell_type": "code",
   "execution_count": 18,
   "id": "expensive-citizen",
   "metadata": {},
   "outputs": [],
   "source": [
    "diamond_id = predict['id']"
   ]
  },
  {
   "cell_type": "code",
   "execution_count": 19,
   "id": "wrapped-minnesota",
   "metadata": {},
   "outputs": [],
   "source": [
    "submission = pd.DataFrame({'id' : diamond_id, 'price' : predictions})"
   ]
  },
  {
   "cell_type": "code",
   "execution_count": 20,
   "id": "mineral-education",
   "metadata": {},
   "outputs": [],
   "source": [
    "submission.to_csv('submissions/submission.csv', index=False)"
   ]
  },
  {
   "cell_type": "code",
   "execution_count": null,
   "id": "graduate-filter",
   "metadata": {},
   "outputs": [],
   "source": []
  },
  {
   "cell_type": "code",
   "execution_count": null,
   "id": "common-probability",
   "metadata": {},
   "outputs": [],
   "source": []
  },
  {
   "cell_type": "code",
   "execution_count": null,
   "id": "banned-leave",
   "metadata": {},
   "outputs": [],
   "source": []
  },
  {
   "cell_type": "code",
   "execution_count": null,
   "id": "worthy-verification",
   "metadata": {},
   "outputs": [],
   "source": []
  }
 ],
 "metadata": {
  "kernelspec": {
   "display_name": "Python [conda env:ironhack_env]",
   "language": "python",
   "name": "conda-env-ironhack_env-py"
  },
  "language_info": {
   "codemirror_mode": {
    "name": "ipython",
    "version": 3
   },
   "file_extension": ".py",
   "mimetype": "text/x-python",
   "name": "python",
   "nbconvert_exporter": "python",
   "pygments_lexer": "ipython3",
   "version": "3.8.5"
  }
 },
 "nbformat": 4,
 "nbformat_minor": 5
}
