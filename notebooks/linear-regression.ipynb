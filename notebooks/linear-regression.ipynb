{
 "cells": [
  {
   "cell_type": "code",
   "execution_count": 1,
   "id": "promotional-reasoning",
   "metadata": {},
   "outputs": [],
   "source": [
    "import pandas as pd"
   ]
  },
  {
   "cell_type": "code",
   "execution_count": 2,
   "id": "injured-choir",
   "metadata": {},
   "outputs": [],
   "source": [
    "train = pd.read_csv('data/diamonds_train.csv')\n",
    "predict = pd.read_csv('data/diamonds_test.csv')\n",
    "sample_submission = pd.read_csv('data/sample_submission.csv')"
   ]
  },
  {
   "cell_type": "code",
   "execution_count": 3,
   "id": "compatible-momentum",
   "metadata": {},
   "outputs": [],
   "source": [
    "TARGET = 'price'\n",
    "\n",
    "CAT_FEATURES = ['cut', 'color', 'clarity']\n",
    "NUM_FEATURES = ['carat', 'depth', 'table', 'x', 'y', 'z']"
   ]
  },
  {
   "cell_type": "code",
   "execution_count": 4,
   "id": "durable-diary",
   "metadata": {},
   "outputs": [],
   "source": [
    "for categorical_feature in CAT_FEATURES:\n",
    "    train[categorical_feature] = train[categorical_feature].astype('category')\n",
    "    predict[categorical_feature] = predict[categorical_feature].astype('category')"
   ]
  },
  {
   "cell_type": "code",
   "execution_count": 5,
   "id": "developed-decimal",
   "metadata": {},
   "outputs": [],
   "source": [
    "categorical_train_df = pd.get_dummies(train[CAT_FEATURES])\n",
    "numerical_train_df = train[NUM_FEATURES]\n",
    "train_df = pd.concat([categorical_train_df, numerical_train_df], axis=1)"
   ]
  },
  {
   "cell_type": "code",
   "execution_count": 6,
   "id": "express-turner",
   "metadata": {},
   "outputs": [],
   "source": [
    "categorical_predict_df = pd.get_dummies(predict[CAT_FEATURES])\n",
    "numerical_predict_df = predict[NUM_FEATURES]\n",
    "predict_df = pd.concat([categorical_predict_df, numerical_predict_df], axis=1)"
   ]
  },
  {
   "cell_type": "code",
   "execution_count": 7,
   "id": "hourly-creation",
   "metadata": {},
   "outputs": [],
   "source": [
    "FEATURES = categorical_train_df.columns.tolist() + numerical_train_df.columns.tolist()"
   ]
  },
  {
   "cell_type": "code",
   "execution_count": 8,
   "id": "certified-prague",
   "metadata": {},
   "outputs": [],
   "source": [
    "from sklearn.preprocessing import StandardScaler"
   ]
  },
  {
   "cell_type": "code",
   "execution_count": 9,
   "id": "remarkable-zimbabwe",
   "metadata": {},
   "outputs": [],
   "source": [
    "scaler = StandardScaler()"
   ]
  },
  {
   "cell_type": "code",
   "execution_count": 10,
   "id": "expressed-wisconsin",
   "metadata": {},
   "outputs": [],
   "source": [
    "X = scaler.fit_transform(train_df[FEATURES])"
   ]
  },
  {
   "cell_type": "code",
   "execution_count": 11,
   "id": "parental-execution",
   "metadata": {},
   "outputs": [],
   "source": [
    "y = train[TARGET]"
   ]
  },
  {
   "cell_type": "code",
   "execution_count": 12,
   "id": "blessed-dancing",
   "metadata": {},
   "outputs": [],
   "source": [
    "from sklearn.model_selection import train_test_split"
   ]
  },
  {
   "cell_type": "code",
   "execution_count": 13,
   "id": "religious-survey",
   "metadata": {},
   "outputs": [
    {
     "data": {
      "text/plain": [
       "((30341, 26), (30341,), (10114, 26), (10114,))"
      ]
     },
     "execution_count": 13,
     "metadata": {},
     "output_type": "execute_result"
    }
   ],
   "source": [
    "X_train, X_test, y_train, y_test = train_test_split(X, y, test_size=0.25, random_state=42)\n",
    "\n",
    "X_train.shape, y_train.shape, X_test.shape, y_test.shape"
   ]
  },
  {
   "cell_type": "code",
   "execution_count": 14,
   "id": "animal-given",
   "metadata": {},
   "outputs": [
    {
     "data": {
      "text/plain": [
       "LinearRegression()"
      ]
     },
     "execution_count": 14,
     "metadata": {},
     "output_type": "execute_result"
    }
   ],
   "source": [
    "from sklearn.linear_model import LinearRegression\n",
    "\n",
    "model = LinearRegression(fit_intercept=True)\n",
    "model.fit(X_train, y_train)"
   ]
  },
  {
   "cell_type": "code",
   "execution_count": 15,
   "id": "another-analysis",
   "metadata": {},
   "outputs": [],
   "source": [
    "X_predict = scaler.transform(predict_df[FEATURES])"
   ]
  },
  {
   "cell_type": "code",
   "execution_count": 16,
   "id": "imported-update",
   "metadata": {},
   "outputs": [
    {
     "data": {
      "text/plain": [
       "array([ 3627.4126649 ,  6303.39453974, 10104.2200187 , ...,\n",
       "        3871.32971237,  1961.21515052,   731.27228255])"
      ]
     },
     "execution_count": 16,
     "metadata": {},
     "output_type": "execute_result"
    }
   ],
   "source": [
    "y_pred = model.predict(X_predict)\n",
    "\n",
    "y_pred"
   ]
  },
  {
   "cell_type": "code",
   "execution_count": 17,
   "id": "executive-proceeding",
   "metadata": {},
   "outputs": [],
   "source": [
    "diamond_id = predict['id']"
   ]
  },
  {
   "cell_type": "code",
   "execution_count": 18,
   "id": "lasting-optimization",
   "metadata": {},
   "outputs": [],
   "source": [
    "submission = pd.DataFrame({'id' : diamond_id, 'price' : y_pred})"
   ]
  },
  {
   "cell_type": "code",
   "execution_count": 19,
   "id": "amino-heart",
   "metadata": {},
   "outputs": [],
   "source": [
    "submission.to_csv('submissions/sample_submission.csv', index=False)"
   ]
  },
  {
   "cell_type": "code",
   "execution_count": null,
   "id": "recreational-filter",
   "metadata": {},
   "outputs": [],
   "source": []
  }
 ],
 "metadata": {
  "kernelspec": {
   "display_name": "Python [conda env:ironhack_env]",
   "language": "python",
   "name": "conda-env-ironhack_env-py"
  },
  "language_info": {
   "codemirror_mode": {
    "name": "ipython",
    "version": 3
   },
   "file_extension": ".py",
   "mimetype": "text/x-python",
   "name": "python",
   "nbconvert_exporter": "python",
   "pygments_lexer": "ipython3",
   "version": "3.8.5"
  }
 },
 "nbformat": 4,
 "nbformat_minor": 5
}
