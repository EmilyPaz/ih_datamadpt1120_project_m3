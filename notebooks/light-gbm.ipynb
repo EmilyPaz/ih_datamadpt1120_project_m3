{
 "cells": [
  {
   "cell_type": "code",
   "execution_count": 1,
   "id": "unlikely-olympus",
   "metadata": {},
   "outputs": [],
   "source": [
    "import pandas as pd\n",
    "from sklearn.impute import SimpleImputer\n",
    "from sklearn.preprocessing import StandardScaler, RobustScaler, MinMaxScaler\n",
    "from sklearn.pipeline import Pipeline\n",
    "from sklearn.preprocessing import OneHotEncoder, OrdinalEncoder, LabelEncoder\n",
    "from sklearn.compose import ColumnTransformer"
   ]
  },
  {
   "cell_type": "code",
   "execution_count": 2,
   "id": "applied-forestry",
   "metadata": {},
   "outputs": [],
   "source": [
    "diamonds = pd.read_csv('data/diamonds_train.csv')\n",
    "predict = pd.read_csv('data/diamonds_test.csv')"
   ]
  },
  {
   "cell_type": "code",
   "execution_count": 3,
   "id": "wanted-holmes",
   "metadata": {},
   "outputs": [],
   "source": [
    "TARGET = 'price'\n",
    "\n",
    "CAT_FEATS = ['cut', 'color', 'clarity']\n",
    "NUM_FEATS = ['carat', 'depth', 'table', 'x', 'y', 'z']\n",
    "\n",
    "FEATURES = NUM_FEATS + CAT_FEATS"
   ]
  },
  {
   "cell_type": "code",
   "execution_count": 4,
   "id": "micro-institution",
   "metadata": {},
   "outputs": [],
   "source": [
    "numerical_transformer = Pipeline(steps=[('imputer', SimpleImputer(strategy='mean')),\n",
    "                                       ('scaler', MinMaxScaler())])"
   ]
  },
  {
   "cell_type": "code",
   "execution_count": 5,
   "id": "local-concept",
   "metadata": {},
   "outputs": [
    {
     "data": {
      "text/plain": [
       "array([[0.23488372, 0.53888889, 0.28846154, 0.66764418, 0.11528014,\n",
       "        0.52729529],\n",
       "       [0.02790698, 0.55555556, 0.26923077, 0.42521994, 0.07436333,\n",
       "        0.34119107],\n",
       "       [0.11860465, 0.625     , 0.23076923, 0.54936461, 0.09388795,\n",
       "        0.4528536 ],\n",
       "       ...,\n",
       "       [0.18837209, 0.54722222, 0.25      , 0.6226784 , 0.1089983 ,\n",
       "        0.49751861],\n",
       "       [0.03023256, 0.525     , 0.21730769, 0.43499511, 0.07589134,\n",
       "        0.34243176],\n",
       "       [0.24186047, 0.52777778, 0.28846154, 0.66764418, 0.11680815,\n",
       "        0.52729529]])"
      ]
     },
     "execution_count": 5,
     "metadata": {},
     "output_type": "execute_result"
    }
   ],
   "source": [
    "numerical_transformer.fit_transform(diamonds[NUM_FEATS])"
   ]
  },
  {
   "cell_type": "code",
   "execution_count": 6,
   "id": "green-image",
   "metadata": {},
   "outputs": [],
   "source": [
    "categorical_transformer = Pipeline(steps=[('imputer', SimpleImputer(strategy='constant', fill_value = 'missing')),\n",
    "                                       ('encoder', OneHotEncoder(handle_unknown='ignore'))])"
   ]
  },
  {
   "cell_type": "code",
   "execution_count": 7,
   "id": "vertical-broadcast",
   "metadata": {},
   "outputs": [
    {
     "data": {
      "text/plain": [
       "<40455x20 sparse matrix of type '<class 'numpy.float64'>'\n",
       "\twith 121365 stored elements in Compressed Sparse Row format>"
      ]
     },
     "execution_count": 7,
     "metadata": {},
     "output_type": "execute_result"
    }
   ],
   "source": [
    "categorical_transformer.fit_transform(diamonds[CAT_FEATS])"
   ]
  },
  {
   "cell_type": "code",
   "execution_count": 8,
   "id": "commercial-yeast",
   "metadata": {},
   "outputs": [],
   "source": [
    "preprocessor = ColumnTransformer(transformers=[('numerical_preprocessor', numerical_transformer, NUM_FEATS ),\n",
    "                                              ('categorical_preprocessor', categorical_transformer, CAT_FEATS)])"
   ]
  },
  {
   "cell_type": "code",
   "execution_count": 9,
   "id": "immune-chest",
   "metadata": {},
   "outputs": [
    {
     "data": {
      "text/html": [
       "<div>\n",
       "<style scoped>\n",
       "    .dataframe tbody tr th:only-of-type {\n",
       "        vertical-align: middle;\n",
       "    }\n",
       "\n",
       "    .dataframe tbody tr th {\n",
       "        vertical-align: top;\n",
       "    }\n",
       "\n",
       "    .dataframe thead th {\n",
       "        text-align: right;\n",
       "    }\n",
       "</style>\n",
       "<table border=\"1\" class=\"dataframe\">\n",
       "  <thead>\n",
       "    <tr style=\"text-align: right;\">\n",
       "      <th></th>\n",
       "      <th>0</th>\n",
       "      <th>1</th>\n",
       "      <th>2</th>\n",
       "      <th>3</th>\n",
       "      <th>4</th>\n",
       "      <th>5</th>\n",
       "      <th>6</th>\n",
       "      <th>7</th>\n",
       "      <th>8</th>\n",
       "      <th>9</th>\n",
       "      <th>...</th>\n",
       "      <th>16</th>\n",
       "      <th>17</th>\n",
       "      <th>18</th>\n",
       "      <th>19</th>\n",
       "      <th>20</th>\n",
       "      <th>21</th>\n",
       "      <th>22</th>\n",
       "      <th>23</th>\n",
       "      <th>24</th>\n",
       "      <th>25</th>\n",
       "    </tr>\n",
       "  </thead>\n",
       "  <tbody>\n",
       "    <tr>\n",
       "      <th>0</th>\n",
       "      <td>0.234884</td>\n",
       "      <td>0.538889</td>\n",
       "      <td>0.288462</td>\n",
       "      <td>0.667644</td>\n",
       "      <td>0.115280</td>\n",
       "      <td>0.527295</td>\n",
       "      <td>0.0</td>\n",
       "      <td>0.0</td>\n",
       "      <td>0.0</td>\n",
       "      <td>1.0</td>\n",
       "      <td>...</td>\n",
       "      <td>0.0</td>\n",
       "      <td>1.0</td>\n",
       "      <td>0.0</td>\n",
       "      <td>0.0</td>\n",
       "      <td>0.0</td>\n",
       "      <td>0.0</td>\n",
       "      <td>0.0</td>\n",
       "      <td>1.0</td>\n",
       "      <td>0.0</td>\n",
       "      <td>0.0</td>\n",
       "    </tr>\n",
       "    <tr>\n",
       "      <th>1</th>\n",
       "      <td>0.027907</td>\n",
       "      <td>0.555556</td>\n",
       "      <td>0.269231</td>\n",
       "      <td>0.425220</td>\n",
       "      <td>0.074363</td>\n",
       "      <td>0.341191</td>\n",
       "      <td>0.0</td>\n",
       "      <td>0.0</td>\n",
       "      <td>0.0</td>\n",
       "      <td>0.0</td>\n",
       "      <td>...</td>\n",
       "      <td>0.0</td>\n",
       "      <td>0.0</td>\n",
       "      <td>0.0</td>\n",
       "      <td>0.0</td>\n",
       "      <td>0.0</td>\n",
       "      <td>0.0</td>\n",
       "      <td>0.0</td>\n",
       "      <td>1.0</td>\n",
       "      <td>0.0</td>\n",
       "      <td>0.0</td>\n",
       "    </tr>\n",
       "    <tr>\n",
       "      <th>2</th>\n",
       "      <td>0.118605</td>\n",
       "      <td>0.625000</td>\n",
       "      <td>0.230769</td>\n",
       "      <td>0.549365</td>\n",
       "      <td>0.093888</td>\n",
       "      <td>0.452854</td>\n",
       "      <td>1.0</td>\n",
       "      <td>0.0</td>\n",
       "      <td>0.0</td>\n",
       "      <td>0.0</td>\n",
       "      <td>...</td>\n",
       "      <td>0.0</td>\n",
       "      <td>0.0</td>\n",
       "      <td>0.0</td>\n",
       "      <td>0.0</td>\n",
       "      <td>0.0</td>\n",
       "      <td>0.0</td>\n",
       "      <td>1.0</td>\n",
       "      <td>0.0</td>\n",
       "      <td>0.0</td>\n",
       "      <td>0.0</td>\n",
       "    </tr>\n",
       "    <tr>\n",
       "      <th>3</th>\n",
       "      <td>0.048837</td>\n",
       "      <td>0.577778</td>\n",
       "      <td>0.250000</td>\n",
       "      <td>0.457478</td>\n",
       "      <td>0.080136</td>\n",
       "      <td>0.372208</td>\n",
       "      <td>0.0</td>\n",
       "      <td>1.0</td>\n",
       "      <td>0.0</td>\n",
       "      <td>0.0</td>\n",
       "      <td>...</td>\n",
       "      <td>0.0</td>\n",
       "      <td>0.0</td>\n",
       "      <td>0.0</td>\n",
       "      <td>0.0</td>\n",
       "      <td>1.0</td>\n",
       "      <td>0.0</td>\n",
       "      <td>0.0</td>\n",
       "      <td>0.0</td>\n",
       "      <td>0.0</td>\n",
       "      <td>0.0</td>\n",
       "    </tr>\n",
       "    <tr>\n",
       "      <th>4</th>\n",
       "      <td>0.190698</td>\n",
       "      <td>0.486111</td>\n",
       "      <td>0.307692</td>\n",
       "      <td>0.640274</td>\n",
       "      <td>0.110526</td>\n",
       "      <td>0.490074</td>\n",
       "      <td>0.0</td>\n",
       "      <td>0.0</td>\n",
       "      <td>1.0</td>\n",
       "      <td>0.0</td>\n",
       "      <td>...</td>\n",
       "      <td>0.0</td>\n",
       "      <td>0.0</td>\n",
       "      <td>0.0</td>\n",
       "      <td>0.0</td>\n",
       "      <td>1.0</td>\n",
       "      <td>0.0</td>\n",
       "      <td>0.0</td>\n",
       "      <td>0.0</td>\n",
       "      <td>0.0</td>\n",
       "      <td>0.0</td>\n",
       "    </tr>\n",
       "    <tr>\n",
       "      <th>...</th>\n",
       "      <td>...</td>\n",
       "      <td>...</td>\n",
       "      <td>...</td>\n",
       "      <td>...</td>\n",
       "      <td>...</td>\n",
       "      <td>...</td>\n",
       "      <td>...</td>\n",
       "      <td>...</td>\n",
       "      <td>...</td>\n",
       "      <td>...</td>\n",
       "      <td>...</td>\n",
       "      <td>...</td>\n",
       "      <td>...</td>\n",
       "      <td>...</td>\n",
       "      <td>...</td>\n",
       "      <td>...</td>\n",
       "      <td>...</td>\n",
       "      <td>...</td>\n",
       "      <td>...</td>\n",
       "      <td>...</td>\n",
       "      <td>...</td>\n",
       "    </tr>\n",
       "    <tr>\n",
       "      <th>40450</th>\n",
       "      <td>0.265116</td>\n",
       "      <td>0.547222</td>\n",
       "      <td>0.269231</td>\n",
       "      <td>0.694037</td>\n",
       "      <td>0.119525</td>\n",
       "      <td>0.549628</td>\n",
       "      <td>0.0</td>\n",
       "      <td>0.0</td>\n",
       "      <td>1.0</td>\n",
       "      <td>0.0</td>\n",
       "      <td>...</td>\n",
       "      <td>0.0</td>\n",
       "      <td>0.0</td>\n",
       "      <td>0.0</td>\n",
       "      <td>0.0</td>\n",
       "      <td>0.0</td>\n",
       "      <td>0.0</td>\n",
       "      <td>1.0</td>\n",
       "      <td>0.0</td>\n",
       "      <td>0.0</td>\n",
       "      <td>0.0</td>\n",
       "    </tr>\n",
       "    <tr>\n",
       "      <th>40451</th>\n",
       "      <td>0.423256</td>\n",
       "      <td>0.391667</td>\n",
       "      <td>0.326923</td>\n",
       "      <td>0.812317</td>\n",
       "      <td>0.140068</td>\n",
       "      <td>0.586849</td>\n",
       "      <td>0.0</td>\n",
       "      <td>1.0</td>\n",
       "      <td>0.0</td>\n",
       "      <td>0.0</td>\n",
       "      <td>...</td>\n",
       "      <td>0.0</td>\n",
       "      <td>0.0</td>\n",
       "      <td>0.0</td>\n",
       "      <td>0.0</td>\n",
       "      <td>0.0</td>\n",
       "      <td>1.0</td>\n",
       "      <td>0.0</td>\n",
       "      <td>0.0</td>\n",
       "      <td>0.0</td>\n",
       "      <td>0.0</td>\n",
       "    </tr>\n",
       "    <tr>\n",
       "      <th>40452</th>\n",
       "      <td>0.188372</td>\n",
       "      <td>0.547222</td>\n",
       "      <td>0.250000</td>\n",
       "      <td>0.622678</td>\n",
       "      <td>0.108998</td>\n",
       "      <td>0.497519</td>\n",
       "      <td>0.0</td>\n",
       "      <td>0.0</td>\n",
       "      <td>1.0</td>\n",
       "      <td>0.0</td>\n",
       "      <td>...</td>\n",
       "      <td>0.0</td>\n",
       "      <td>0.0</td>\n",
       "      <td>0.0</td>\n",
       "      <td>0.0</td>\n",
       "      <td>1.0</td>\n",
       "      <td>0.0</td>\n",
       "      <td>0.0</td>\n",
       "      <td>0.0</td>\n",
       "      <td>0.0</td>\n",
       "      <td>0.0</td>\n",
       "    </tr>\n",
       "    <tr>\n",
       "      <th>40453</th>\n",
       "      <td>0.030233</td>\n",
       "      <td>0.525000</td>\n",
       "      <td>0.217308</td>\n",
       "      <td>0.434995</td>\n",
       "      <td>0.075891</td>\n",
       "      <td>0.342432</td>\n",
       "      <td>0.0</td>\n",
       "      <td>0.0</td>\n",
       "      <td>1.0</td>\n",
       "      <td>0.0</td>\n",
       "      <td>...</td>\n",
       "      <td>0.0</td>\n",
       "      <td>1.0</td>\n",
       "      <td>0.0</td>\n",
       "      <td>0.0</td>\n",
       "      <td>0.0</td>\n",
       "      <td>0.0</td>\n",
       "      <td>1.0</td>\n",
       "      <td>0.0</td>\n",
       "      <td>0.0</td>\n",
       "      <td>0.0</td>\n",
       "    </tr>\n",
       "    <tr>\n",
       "      <th>40454</th>\n",
       "      <td>0.241860</td>\n",
       "      <td>0.527778</td>\n",
       "      <td>0.288462</td>\n",
       "      <td>0.667644</td>\n",
       "      <td>0.116808</td>\n",
       "      <td>0.527295</td>\n",
       "      <td>0.0</td>\n",
       "      <td>0.0</td>\n",
       "      <td>1.0</td>\n",
       "      <td>0.0</td>\n",
       "      <td>...</td>\n",
       "      <td>1.0</td>\n",
       "      <td>0.0</td>\n",
       "      <td>0.0</td>\n",
       "      <td>0.0</td>\n",
       "      <td>1.0</td>\n",
       "      <td>0.0</td>\n",
       "      <td>0.0</td>\n",
       "      <td>0.0</td>\n",
       "      <td>0.0</td>\n",
       "      <td>0.0</td>\n",
       "    </tr>\n",
       "  </tbody>\n",
       "</table>\n",
       "<p>40455 rows × 26 columns</p>\n",
       "</div>"
      ],
      "text/plain": [
       "             0         1         2         3         4         5    6    7   \\\n",
       "0      0.234884  0.538889  0.288462  0.667644  0.115280  0.527295  0.0  0.0   \n",
       "1      0.027907  0.555556  0.269231  0.425220  0.074363  0.341191  0.0  0.0   \n",
       "2      0.118605  0.625000  0.230769  0.549365  0.093888  0.452854  1.0  0.0   \n",
       "3      0.048837  0.577778  0.250000  0.457478  0.080136  0.372208  0.0  1.0   \n",
       "4      0.190698  0.486111  0.307692  0.640274  0.110526  0.490074  0.0  0.0   \n",
       "...         ...       ...       ...       ...       ...       ...  ...  ...   \n",
       "40450  0.265116  0.547222  0.269231  0.694037  0.119525  0.549628  0.0  0.0   \n",
       "40451  0.423256  0.391667  0.326923  0.812317  0.140068  0.586849  0.0  1.0   \n",
       "40452  0.188372  0.547222  0.250000  0.622678  0.108998  0.497519  0.0  0.0   \n",
       "40453  0.030233  0.525000  0.217308  0.434995  0.075891  0.342432  0.0  0.0   \n",
       "40454  0.241860  0.527778  0.288462  0.667644  0.116808  0.527295  0.0  0.0   \n",
       "\n",
       "        8    9   ...   16   17   18   19   20   21   22   23   24   25  \n",
       "0      0.0  1.0  ...  0.0  1.0  0.0  0.0  0.0  0.0  0.0  1.0  0.0  0.0  \n",
       "1      0.0  0.0  ...  0.0  0.0  0.0  0.0  0.0  0.0  0.0  1.0  0.0  0.0  \n",
       "2      0.0  0.0  ...  0.0  0.0  0.0  0.0  0.0  0.0  1.0  0.0  0.0  0.0  \n",
       "3      0.0  0.0  ...  0.0  0.0  0.0  0.0  1.0  0.0  0.0  0.0  0.0  0.0  \n",
       "4      1.0  0.0  ...  0.0  0.0  0.0  0.0  1.0  0.0  0.0  0.0  0.0  0.0  \n",
       "...    ...  ...  ...  ...  ...  ...  ...  ...  ...  ...  ...  ...  ...  \n",
       "40450  1.0  0.0  ...  0.0  0.0  0.0  0.0  0.0  0.0  1.0  0.0  0.0  0.0  \n",
       "40451  0.0  0.0  ...  0.0  0.0  0.0  0.0  0.0  1.0  0.0  0.0  0.0  0.0  \n",
       "40452  1.0  0.0  ...  0.0  0.0  0.0  0.0  1.0  0.0  0.0  0.0  0.0  0.0  \n",
       "40453  1.0  0.0  ...  0.0  1.0  0.0  0.0  0.0  0.0  1.0  0.0  0.0  0.0  \n",
       "40454  1.0  0.0  ...  1.0  0.0  0.0  0.0  1.0  0.0  0.0  0.0  0.0  0.0  \n",
       "\n",
       "[40455 rows x 26 columns]"
      ]
     },
     "execution_count": 9,
     "metadata": {},
     "output_type": "execute_result"
    }
   ],
   "source": [
    "pd.DataFrame(data=preprocessor.fit_transform(diamonds[FEATURES]))"
   ]
  },
  {
   "cell_type": "code",
   "execution_count": 10,
   "id": "southwest-banks",
   "metadata": {},
   "outputs": [],
   "source": [
    "from sklearn.model_selection import train_test_split\n",
    "from lightgbm import LGBMRegressor"
   ]
  },
  {
   "cell_type": "code",
   "execution_count": 11,
   "id": "ready-thomson",
   "metadata": {},
   "outputs": [],
   "source": [
    "diamonds_train, diamonds_test = train_test_split(diamonds)"
   ]
  },
  {
   "cell_type": "code",
   "execution_count": 12,
   "id": "manufactured-employee",
   "metadata": {},
   "outputs": [],
   "source": [
    "model = Pipeline(steps=[('preprocessor', preprocessor),\n",
    "                       ('regressor', LGBMRegressor(n_jobs=-1))])"
   ]
  },
  {
   "cell_type": "code",
   "execution_count": 13,
   "id": "pacific-reggae",
   "metadata": {},
   "outputs": [],
   "source": [
    "X_train = diamonds_train[FEATURES]\n",
    "y_train = diamonds_train[TARGET]"
   ]
  },
  {
   "cell_type": "code",
   "execution_count": 14,
   "id": "usual-marks",
   "metadata": {},
   "outputs": [],
   "source": [
    "model.fit(X_train, y_train);"
   ]
  },
  {
   "cell_type": "code",
   "execution_count": 15,
   "id": "practical-formula",
   "metadata": {},
   "outputs": [],
   "source": [
    "y_train_predict = model.predict(X_train)"
   ]
  },
  {
   "cell_type": "code",
   "execution_count": 16,
   "id": "lyric-potential",
   "metadata": {},
   "outputs": [],
   "source": [
    "from sklearn.metrics import mean_squared_error"
   ]
  },
  {
   "cell_type": "code",
   "execution_count": 17,
   "id": "departmental-mechanism",
   "metadata": {},
   "outputs": [
    {
     "data": {
      "text/plain": [
       "474.37593302356487"
      ]
     },
     "execution_count": 17,
     "metadata": {},
     "output_type": "execute_result"
    }
   ],
   "source": [
    "mean_squared_error(y_true=y_train, y_pred=y_train_predict, squared=False)"
   ]
  },
  {
   "cell_type": "code",
   "execution_count": 18,
   "id": "satisfied-breach",
   "metadata": {},
   "outputs": [],
   "source": [
    "X_test = diamonds_test[FEATURES]\n",
    "y_test = diamonds_test[TARGET]"
   ]
  },
  {
   "cell_type": "code",
   "execution_count": 19,
   "id": "ranging-trout",
   "metadata": {},
   "outputs": [],
   "source": [
    "y_test_predict = model.predict(X_test)"
   ]
  },
  {
   "cell_type": "code",
   "execution_count": 20,
   "id": "circular-halifax",
   "metadata": {},
   "outputs": [
    {
     "data": {
      "text/plain": [
       "532.3822283554318"
      ]
     },
     "execution_count": 20,
     "metadata": {},
     "output_type": "execute_result"
    }
   ],
   "source": [
    "mean_squared_error(y_true=y_test, y_pred=y_test_predict, squared=False)"
   ]
  },
  {
   "cell_type": "code",
   "execution_count": 21,
   "id": "occupied-extreme",
   "metadata": {},
   "outputs": [],
   "source": [
    "from sklearn.model_selection import cross_val_score"
   ]
  },
  {
   "cell_type": "code",
   "execution_count": 22,
   "id": "mathematical-offer",
   "metadata": {},
   "outputs": [],
   "source": [
    "X = diamonds[FEATURES]\n",
    "y = diamonds[TARGET]"
   ]
  },
  {
   "cell_type": "code",
   "execution_count": 23,
   "id": "thirty-sherman",
   "metadata": {},
   "outputs": [
    {
     "data": {
      "text/plain": [
       "-548.4332669922659"
      ]
     },
     "execution_count": 23,
     "metadata": {},
     "output_type": "execute_result"
    }
   ],
   "source": [
    "cross_val_score(model, X, y, scoring = 'neg_root_mean_squared_error', cv=4, n_jobs=-1).mean()"
   ]
  },
  {
   "cell_type": "code",
   "execution_count": 24,
   "id": "close-involvement",
   "metadata": {},
   "outputs": [],
   "source": [
    "y_submission = model.predict(predict[FEATURES])"
   ]
  },
  {
   "cell_type": "code",
   "execution_count": 25,
   "id": "unexpected-greensboro",
   "metadata": {},
   "outputs": [],
   "source": [
    "from sklearn.model_selection import RandomizedSearchCV"
   ]
  },
  {
   "cell_type": "code",
   "execution_count": 26,
   "id": "dependent-filling",
   "metadata": {},
   "outputs": [],
   "source": [
    "parameter_grid = {'regressor__max_depth' : [2,4,6,8,11,16,20,24,28,32],\n",
    "                  'regressor__n_estimators' : [64, 128, 256, 512, 1024],\n",
    "                  'regressor__learning_rate' : [0.1, 0.01, 0.001],\n",
    "                  'preprocessor__numerical_preprocessor__imputer__strategy' : ['mean', 'median']}"
   ]
  },
  {
   "cell_type": "code",
   "execution_count": 27,
   "id": "basic-gibraltar",
   "metadata": {},
   "outputs": [],
   "source": [
    "grid_search = RandomizedSearchCV(model, parameter_grid, cv=5, scoring='neg_root_mean_squared_error', n_jobs=-1, n_iter=20)"
   ]
  },
  {
   "cell_type": "code",
   "execution_count": 28,
   "id": "greater-twelve",
   "metadata": {},
   "outputs": [
    {
     "name": "stdout",
     "output_type": "stream",
     "text": [
      "[LightGBM] [Warning] Accuracy may be bad since you didn't explicitly set num_leaves OR 2^max_depth > num_leaves. (num_leaves=31).\n"
     ]
    }
   ],
   "source": [
    "grid_search.fit(X,y);"
   ]
  },
  {
   "cell_type": "code",
   "execution_count": 29,
   "id": "protecting-prescription",
   "metadata": {},
   "outputs": [],
   "source": [
    "submission = grid_search.predict(predict[FEATURES])"
   ]
  },
  {
   "cell_type": "code",
   "execution_count": 30,
   "id": "graphic-malpractice",
   "metadata": {},
   "outputs": [],
   "source": [
    "submission_df = pd.DataFrame({'id': predict['id'], 'price': submission})"
   ]
  },
  {
   "cell_type": "code",
   "execution_count": 31,
   "id": "catholic-taiwan",
   "metadata": {},
   "outputs": [],
   "source": [
    "submission_df.price.clip(0, 20000, inplace=True)"
   ]
  },
  {
   "cell_type": "code",
   "execution_count": 32,
   "id": "immediate-duration",
   "metadata": {},
   "outputs": [],
   "source": [
    "submission_df.to_csv('submissions/submission_lightgbm_minmaxscaler_2.csv', index=False)"
   ]
  },
  {
   "cell_type": "code",
   "execution_count": null,
   "id": "native-reconstruction",
   "metadata": {},
   "outputs": [],
   "source": []
  },
  {
   "cell_type": "code",
   "execution_count": null,
   "id": "demanding-torture",
   "metadata": {},
   "outputs": [],
   "source": []
  }
 ],
 "metadata": {
  "kernelspec": {
   "display_name": "Python [conda env:ironhack_env]",
   "language": "python",
   "name": "conda-env-ironhack_env-py"
  },
  "language_info": {
   "codemirror_mode": {
    "name": "ipython",
    "version": 3
   },
   "file_extension": ".py",
   "mimetype": "text/x-python",
   "name": "python",
   "nbconvert_exporter": "python",
   "pygments_lexer": "ipython3",
   "version": "3.8.5"
  }
 },
 "nbformat": 4,
 "nbformat_minor": 5
}
